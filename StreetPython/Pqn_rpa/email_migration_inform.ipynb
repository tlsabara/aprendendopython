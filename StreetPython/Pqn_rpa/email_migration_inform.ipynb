{
 "cells": [
  {
   "cell_type": "code",
   "execution_count": 1,
   "id": "729cd285-f7b4-4ad4-ba82-6d43e19d7217",
   "metadata": {},
   "outputs": [],
   "source": [
    "from pathlib import Path\n",
    "import os\n",
    "import smtplib\n",
    "import pandas as pd\n",
    "from email.message import EmailMessage\n",
    "import ssl\n",
    "import time"
   ]
  },
  {
   "cell_type": "code",
   "execution_count": 2,
   "id": "3d953853-e070-4f0a-ad47-66b93f7e92b6",
   "metadata": {},
   "outputs": [
    {
     "name": "stdin",
     "output_type": "stream",
     "text": [
      "Servidor smtp smtp.kinghost.net\n",
      "Porta 465\n",
      "Usuário sys@emcashtec.com.br\n",
      "Senha eD#YWx^FayQ8fn63a\n"
     ]
    }
   ],
   "source": [
    "msg_model = \"\"\"\n",
    "    Olá {usuario_nome}!\n",
    "\n",
    "    seu novo usuário: {usuario_email}\n",
    "    sua nova senha: {nova_senha}\n",
    "    \n",
    "    # USE SEMPRE COM CRIPTOGRAFIA SSL/TLS #\n",
    "\n",
    "    Protocolo - IMAP\n",
    "    imap.kinghost.net\n",
    "    Porta: 993\n",
    "    Modo: SSL/TLS\n",
    "\n",
    "    Protocolo - POP3\n",
    "    pop.kinghost.net\n",
    "    Porta: 995\n",
    "    Modo: SSL/TLS\n",
    "\n",
    "    Protocolo - SMTP\n",
    "    smtp.kinghost.net\n",
    "    Porta: 465\n",
    "    Modo: SSL/TLS\n",
    "\n",
    "\n",
    "    Segurança sempre!\n",
    "    \"\"\"\n",
    "\n",
    "email_acc = dict(\n",
    "    smtp_srv=input(\"Servidor smtp\"),\n",
    "    smtp_port=int(input(\"Porta\")),\n",
    "    smtp_user=input(\"Usuário\"),\n",
    "    smtp_pwd=input(\"Senha\"),\n",
    "    str_message=msg_model\n",
    ")\n",
    "assunto = \"...\""
   ]
  },
  {
   "cell_type": "code",
   "execution_count": 3,
   "id": "6b29c144-cdd2-40fd-b858-3ed18483062f",
   "metadata": {},
   "outputs": [],
   "source": [
    "def fn_mod_name(str_name) -> str:\n",
    "    return \" \".join([i.capitalize() for i in str_name.split(\".\")])\n",
    "\n",
    "def fn_send_mail(target_addr, target_name, target_pwd, new_addr, email_conf, alt_title='...'):\n",
    "    msg = EmailMessage()\n",
    "    msg['From'] = email_conf.get(\"smtp_user\")\n",
    "    msg['To'] = target_addr\n",
    "    msg['Subject'] = \"Novo acesso\" if alt_title == '...' else alt_title\n",
    "    message = email_conf.get(\"str_message\").format(\n",
    "        usuario_nome=fn_mod_name(target_name),\n",
    "        usuario_email=new_addr,\n",
    "        nova_senha=target_pwd\n",
    "        )\n",
    "    msg.set_content(message)\n",
    "    context = ssl.create_default_context()\n",
    "    \n",
    "    with smtplib.SMTP_SSL(email_conf.get(\"smtp_srv\"), email_conf.get(\"smtp_port\"), context) as mailserver:\n",
    "        mailserver.login(email_conf.get(\"smtp_user\"), email_conf.get(\"smtp_pwd\"))\n",
    "        mailserver.send_message(msg)\n"
   ]
  },
  {
   "cell_type": "code",
   "execution_count": 4,
   "id": "2fa17052-57b6-44ec-b2b0-191a4ab7b50b",
   "metadata": {},
   "outputs": [
    {
     "name": "stdout",
     "output_type": "stream",
     "text": [
      "Nada enviado\n"
     ]
    }
   ],
   "source": [
    "debug = False\n",
    "test_mode = False\n",
    "\n",
    "if debug and test_mode:\n",
    "    fn_send_mail('t123@gmail.com', 'thiago.teste', 'nova_conta@domain.com.br', '123@123', email_acc, 'Um novo teste')\n",
    "else:\n",
    "    print('Nada enviado')\n",
    "    \n"
   ]
  },
  {
   "cell_type": "code",
   "execution_count": 5,
   "id": "bc948927-653c-40fd-8414-303dc76b9eb7",
   "metadata": {},
   "outputs": [
    {
     "name": "stdin",
     "output_type": "stream",
     "text": [
      "cole o caminho do arquivo: C:\\Users\\tlsabara\\Desktop\\ListaSenhasEmcash.xlsx\n"
     ]
    }
   ],
   "source": [
    "arq = input('cole o caminho do arquivo:')\n",
    "\n",
    "df = pd.read_excel(arq)\n",
    "df.columns = ['nome', 'senha', 'email']\n",
    "df['nova_conta'] = df['email'].apply(lambda x: str(x).replace(\"@em.cash\", \"@emcashtec.com.br\") if not debug else \"thiago.sabara@emcash.com.br\")\n",
    "df['email'] = df['email'] if not debug else \"thi@domain.com.br\"\n"
   ]
  },
  {
   "cell_type": "code",
   "execution_count": 6,
   "id": "cd162356-0e40-4e06-8d14-9cd0ea5e1c88",
   "metadata": {},
   "outputs": [
    {
     "data": {
      "text/html": [
       "<div>\n",
       "<style scoped>\n",
       "    .dataframe tbody tr th:only-of-type {\n",
       "        vertical-align: middle;\n",
       "    }\n",
       "\n",
       "    .dataframe tbody tr th {\n",
       "        vertical-align: top;\n",
       "    }\n",
       "\n",
       "    .dataframe thead th {\n",
       "        text-align: right;\n",
       "    }\n",
       "</style>\n",
       "<table border=\"1\" class=\"dataframe\">\n",
       "  <thead>\n",
       "    <tr style=\"text-align: right;\">\n",
       "      <th></th>\n",
       "      <th>nome</th>\n",
       "      <th>senha</th>\n",
       "      <th>email</th>\n",
       "      <th>nova_conta</th>\n",
       "    </tr>\n",
       "  </thead>\n",
       "  <tbody>\n",
       "    <tr>\n",
       "      <th>0</th>\n",
       "      <td>andre.amorim</td>\n",
       "      <td>A6amor@6144</td>\n",
       "      <td>andre.amorim@em.cash</td>\n",
       "      <td>andre.amorim@emcashtec.com.br</td>\n",
       "    </tr>\n",
       "    <tr>\n",
       "      <th>1</th>\n",
       "      <td>andreew.januario</td>\n",
       "      <td>A8janu@8192</td>\n",
       "      <td>andreew.januario@em.cash</td>\n",
       "      <td>andreew.januario@emcashtec.com.br</td>\n",
       "    </tr>\n",
       "    <tr>\n",
       "      <th>2</th>\n",
       "      <td>bruno.oliveira</td>\n",
       "      <td>B6oliv@7168</td>\n",
       "      <td>bruno.oliveira@em.cash</td>\n",
       "      <td>bruno.oliveira@emcashtec.com.br</td>\n",
       "    </tr>\n",
       "    <tr>\n",
       "      <th>3</th>\n",
       "      <td>davidson.almeida</td>\n",
       "      <td>D9alme@8192</td>\n",
       "      <td>davidson.almeida@em.cash</td>\n",
       "      <td>davidson.almeida@emcashtec.com.br</td>\n",
       "    </tr>\n",
       "    <tr>\n",
       "      <th>4</th>\n",
       "      <td>diogo.amaral</td>\n",
       "      <td>D6amar@6144</td>\n",
       "      <td>diogo.amaral@em.cash</td>\n",
       "      <td>diogo.amaral@emcashtec.com.br</td>\n",
       "    </tr>\n",
       "  </tbody>\n",
       "</table>\n",
       "</div>"
      ],
      "text/plain": [
       "               nome        senha                     email   \n",
       "0      andre.amorim  A6amor@6144      andre.amorim@em.cash  \\\n",
       "1  andreew.januario  A8janu@8192  andreew.januario@em.cash   \n",
       "2    bruno.oliveira  B6oliv@7168    bruno.oliveira@em.cash   \n",
       "3  davidson.almeida  D9alme@8192  davidson.almeida@em.cash   \n",
       "4      diogo.amaral  D6amar@6144      diogo.amaral@em.cash   \n",
       "\n",
       "                          nova_conta  \n",
       "0      andre.amorim@emcashtec.com.br  \n",
       "1  andreew.januario@emcashtec.com.br  \n",
       "2    bruno.oliveira@emcashtec.com.br  \n",
       "3  davidson.almeida@emcashtec.com.br  \n",
       "4      diogo.amaral@emcashtec.com.br  "
      ]
     },
     "execution_count": 6,
     "metadata": {},
     "output_type": "execute_result"
    }
   ],
   "source": [
    "df.head()"
   ]
  },
  {
   "cell_type": "code",
   "execution_count": 7,
   "id": "0de981ad-96fa-42dc-81b5-b27066329959",
   "metadata": {},
   "outputs": [
    {
     "name": "stdout",
     "output_type": "stream",
     "text": [
      "Enviando para: andre.amorim@em.cash\n",
      "Enviado!\n",
      "\n",
      "\n",
      "Enviando para: andreew.januario@em.cash\n",
      "Enviado!\n",
      "\n",
      "\n",
      "Enviando para: bruno.oliveira@em.cash\n",
      "Enviado!\n",
      "\n",
      "\n",
      "Enviando para: davidson.almeida@em.cash\n",
      "Enviado!\n",
      "\n",
      "\n",
      "Enviando para: diogo.amaral@em.cash\n",
      "Enviado!\n",
      "\n",
      "\n",
      "Enviando para: fabio.filho@em.cash\n",
      "Enviado!\n",
      "\n",
      "\n",
      "Enviando para: gabriel.borges@em.cash\n",
      "Enviado!\n",
      "\n",
      "\n",
      "Enviando para: heitor.souza@em.cash\n",
      "Enviado!\n",
      "\n",
      "\n",
      "Enviando para: lara.abreu@em.cash\n",
      "Enviado!\n",
      "\n",
      "\n",
      "Enviando para: luana.campos@em.cash\n",
      "Enviado!\n",
      "\n",
      "\n",
      "Enviando para: lucas.leal@em.cash\n",
      "Enviado!\n",
      "\n",
      "\n",
      "Enviando para: luis.santos@em.cash\n",
      "Enviado!\n",
      "\n",
      "\n",
      "Enviando para: marcos.miranda@em.cash\n",
      "Enviado!\n",
      "\n",
      "\n",
      "Enviando para: raphael.alencar@em.cash\n",
      "Enviado!\n",
      "\n",
      "\n",
      "Enviando para: ridley.amorim@em.cash\n",
      "Enviado!\n",
      "\n",
      "\n",
      "Enviando para: thiago.lima@em.cash\n",
      "Enviado!\n",
      "\n",
      "\n",
      "Enviando para: thiago.roberto@em.cash\n",
      "Enviado!\n",
      "\n",
      "\n",
      "Fim!\n"
     ]
    }
   ],
   "source": [
    "for i in df.iterrows():\n",
    "    print(f'Enviando para: {i[1].email}')\n",
    "    fn_send_mail(\n",
    "        i[1].email,\n",
    "        i[1].nome,\n",
    "        i[1].senha,\n",
    "        i[1].nova_conta,\n",
    "        email_acc,\n",
    "        assunto\n",
    "    )\n",
    "    print(f'Enviado!\\n\\n')\n",
    "    time.sleep(20)\n",
    "    \n",
    "print('Fim!')"
   ]
  },
  {
   "cell_type": "code",
   "execution_count": null,
   "id": "040c444e-c1af-4ed8-b96f-c49cdc7c8677",
   "metadata": {},
   "outputs": [],
   "source": []
  }
 ],
 "metadata": {
  "kernelspec": {
   "display_name": "Python 3 (ipykernel)",
   "language": "python",
   "name": "python3"
  },
  "language_info": {
   "codemirror_mode": {
    "name": "ipython",
    "version": 3
   },
   "file_extension": ".py",
   "mimetype": "text/x-python",
   "name": "python",
   "nbconvert_exporter": "python",
   "pygments_lexer": "ipython3",
   "version": "3.9.16"
  }
 },
 "nbformat": 4,
 "nbformat_minor": 5
}
