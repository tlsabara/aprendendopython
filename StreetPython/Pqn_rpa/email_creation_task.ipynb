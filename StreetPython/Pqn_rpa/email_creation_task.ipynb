{
 "cells": [
  {
   "cell_type": "code",
   "execution_count": null,
   "id": "0dcae3b7-7d33-47f7-aa85-22846b62cdfc",
   "metadata": {},
   "outputs": [],
   "source": [
    "from selenium import webdriver\n",
    "from selenium.webdriver.common.by import By\n",
    "from selenium.webdriver.common.keys import Keys\n",
    "from selenium.webdriver.common.alert import Alert\n",
    "import pandas as pd\n",
    "import time"
   ]
  },
  {
   "cell_type": "code",
   "execution_count": null,
   "id": "6f4e41ff-fdc1-44ab-a67b-eb3fd04f7ec0",
   "metadata": {},
   "outputs": [],
   "source": [
    "DRIVER_DIR = r\"C:\\chromedriver.exe\"\n",
    "\n",
    "kh_account = input('inserir conta kh:')\n",
    "kh_pwd = input('inserir senha kh:')\n",
    "kh_id = input('inserir id kh:') # 427401"
   ]
  },
  {
   "cell_type": "code",
   "execution_count": null,
   "id": "bb09191c-479a-43da-81ea-1656a8902d22",
   "metadata": {},
   "outputs": [],
   "source": [
    "arq = input('cole o caminho do arquivo:')\n",
    "debug = False\n",
    "df = pd.read_excel(arq)\n",
    "df.columns = ['nome', 'senha', 'email']\n",
    "df['nova_conta'] = df['email'].apply(lambda x: str(x).replace(\"@em.cash\", \"@emcashtec.com.br\") if not debug else \"thiago.sabara@emcash.com.br\")\n",
    "df['email'] = df['email'] if not debug else \"thiago.sabara@emcash.com.br\""
   ]
  },
  {
   "cell_type": "code",
   "execution_count": null,
   "id": "b2d6986e-2b83-42ed-b361-a92a5542bc13",
   "metadata": {},
   "outputs": [],
   "source": [
    "df.head()"
   ]
  },
  {
   "cell_type": "code",
   "execution_count": null,
   "id": "7cef543c-4f44-4bb0-a99a-a1a982b7ee03",
   "metadata": {},
   "outputs": [],
   "source": [
    "browser = webdriver.Chrome(DRIVER_DIR)\n",
    "browser.get('http://king.host')\n",
    "browser.maximize_window()"
   ]
  },
  {
   "cell_type": "code",
   "execution_count": null,
   "id": "b3da4898-da3e-4445-94ab-759b7c215796",
   "metadata": {},
   "outputs": [],
   "source": [
    "def fn__xpath__operate_click(target):\n",
    "    try:\n",
    "        browser.find_element(By.XPATH, target)\n",
    "    except Exception as e:\n",
    "        print(\"<<< element_not_find >>>\\n\")\n",
    "        return False\n",
    "    else:\n",
    "        browser.find_element(By.XPATH, target).click()\n",
    "        time.sleep(0.5)\n",
    "        return True\n",
    "\n",
    "def fn__xpath__insert_str(target, str_target):\n",
    "    try:\n",
    "        browser.find_element(By.XPATH, target)\n",
    "    except Exception as e:\n",
    "        print(\"<<< element_not_find >>>\\n\")\n",
    "        return False\n",
    "    else:\n",
    "        browser.find_element(By.XPATH, target).clear()\n",
    "        browser.find_element(By.XPATH, target).send_keys(str_target)\n",
    "        time.sleep(0.5)\n",
    "        return True"
   ]
  },
  {
   "cell_type": "code",
   "execution_count": null,
   "id": "dade9be6-1440-416b-87e5-b56203908b1f",
   "metadata": {},
   "outputs": [],
   "source": [
    "# fechar aviso:\n",
    "fn__xpath__operate_click(\"/html/body/div[1]/div[2]/section/div[2]/button/img\")\n",
    "# cickar em eentrar:\n",
    "fn__xpath__operate_click(\"/html/body/div[1]/div[2]/div[2]/div[1]/div[2]/div/div[1]/ul/li/div/button/span/span\")\n",
    "# clicar em painel:\n",
    "fn__xpath__operate_click(\"/html/body/div[1]/div[2]/div[2]/div[1]/div[2]/div/div[1]/ul/li/div/div/ul/li/ul/li[1]/a\")\n",
    "# Inserir usuario e senha\n",
    "fn__xpath__insert_str(\"/html/body/app-root/app-template-default/main/div/div[2]/app-molecule-card[1]/div/section/app-page-login/app-template-login/form/app-molecule-field/div/app-atom-input/input\", kh_account)\n",
    "fn__xpath__insert_str('//input[@name=\"password\"]', kh_pwd)\n",
    "# Click no btn\n",
    "fn__xpath__operate_click(\"/html/body/app-root/app-template-default/main/div/div[2]/app-molecule-card[1]/div/section/app-page-login/app-template-login/form/app-atom-button/button\")\n",
    "\n",
    "time.sleep(20)\n",
    "\n",
    "# clicar no domínio certo:\n",
    "fn__xpath__operate_click(f'//div[@class=\"well clickable\"][@data-domain-id=\"{kh_id}\"]')\n",
    "\n",
    "time.sleep(10)\n",
    "# acessar painel de emails:\n",
    "fn__xpath__operate_click('//div[@class=\"title\"][@id=\"Gerenciaremails\"]')\n",
    "\n",
    "time.sleep(10)\n",
    "# clicar em CRIAR CONTA:\n",
    "fn__xpath__operate_click('//img[@src=\"v2015/svg/img-criarconta.svg\"]')\n",
    "# selecionar criaçao de várias contas\n",
    "fn__xpath__operate_click('/html/body/div[1]/div[2]/div[3]/div/div[2]/form/div/div[4]/div[1]/fieldset/div[3]/label')\n",
    "# inserir a quantidade:\n",
    "fn__xpath__insert_str('//input[@id=\"quantity\"]', len(df))\n",
    "# clicar em AVANCAR:\n",
    "fn__xpath__operate_click('//button[@id=\"avancar\"]')\n",
    "\n"
   ]
  },
  {
   "cell_type": "code",
   "execution_count": null,
   "id": "893b1c1c-7920-4f17-95cb-855a26683200",
   "metadata": {},
   "outputs": [],
   "source": [
    "t = '//table[@class=\"table table-condensed table-no-border\"]/tbody/*'\n",
    "\n",
    "for ix, e in enumerate(browser.find_elements(By.XPATH, t)):\n",
    "    elements_input = e.find_elements(By.XPATH, '*//input[@class=\"form-control\"]')\n",
    "    \n",
    "    elements_input[0].clear()\n",
    "    elements_input[1].clear()\n",
    "    elements_input[2].clear()\n",
    "    \n",
    "    elements_input[0].send_keys(df.loc[ix].nome)\n",
    "    elements_input[1].send_keys(df.loc[ix].senha)    \n",
    "    elements_input[2].send_keys(\"256\")\n",
    "    \n",
    "time.sleep(1)"
   ]
  },
  {
   "cell_type": "code",
   "execution_count": null,
   "id": "2e7e96a3-2a29-4885-b6bb-528484dd9edf",
   "metadata": {},
   "outputs": [],
   "source": [
    "# clicar em criar:\n",
    "fn__xpath__operate_click('//input[@value=\"Criar Caixas Postais\"][@type=\"button\"]')\n"
   ]
  }
 ],
 "metadata": {
  "kernelspec": {
   "display_name": "Python 3 (ipykernel)",
   "language": "python",
   "name": "python3"
  },
  "language_info": {
   "codemirror_mode": {
    "name": "ipython",
    "version": 3
   },
   "file_extension": ".py",
   "mimetype": "text/x-python",
   "name": "python",
   "nbconvert_exporter": "python",
   "pygments_lexer": "ipython3",
   "version": "3.9.16"
  }
 },
 "nbformat": 4,
 "nbformat_minor": 5
}
