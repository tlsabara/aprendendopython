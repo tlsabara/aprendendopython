{
 "cells": [
  {
   "cell_type": "markdown",
   "id": "f5d39081",
   "metadata": {},
   "source": [
    "# Pandas"
   ]
  },
  {
   "cell_type": "raw",
   "id": "8b09afb4",
   "metadata": {},
   "source": [
    "def escreveNaTela(a = None, b = None, c = None):\n",
    "    print('Valor A: {}, Valor B: {}, Valor C: {}'.format(a,b,c))\n",
    "    \n",
    "def passandoArgs(*args):\n",
    "    for i in args:\n",
    "        print(i)\n"
   ]
  },
  {
   "cell_type": "raw",
   "id": "33afae05",
   "metadata": {},
   "source": [
    "passandoArgs('Thago',1,5,8,444,65,'t', 0, 'opa')"
   ]
  },
  {
   "cell_type": "code",
   "execution_count": 20,
   "id": "c8fbf834",
   "metadata": {},
   "outputs": [],
   "source": [
    "import pandas as pd"
   ]
  },
  {
   "cell_type": "code",
   "execution_count": null,
   "id": "79740236",
   "metadata": {},
   "outputs": [],
   "source": [
    "var1 = pd.Ser"
   ]
  },
  {
   "cell_type": "code",
   "execution_count": null,
   "id": "d01b00b1",
   "metadata": {},
   "outputs": [],
   "source": []
  }
 ],
 "metadata": {
  "kernelspec": {
   "display_name": "Python 3 (ipykernel)",
   "language": "python",
   "name": "python3"
  },
  "language_info": {
   "codemirror_mode": {
    "name": "ipython",
    "version": 3
   },
   "file_extension": ".py",
   "mimetype": "text/x-python",
   "name": "python",
   "nbconvert_exporter": "python",
   "pygments_lexer": "ipython3",
   "version": "3.9.7"
  }
 },
 "nbformat": 4,
 "nbformat_minor": 5
}
