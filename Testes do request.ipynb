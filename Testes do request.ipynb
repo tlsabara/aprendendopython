{
 "cells": [
  {
   "cell_type": "code",
   "execution_count": 65,
   "id": "f514a98b",
   "metadata": {},
   "outputs": [
    {
     "name": "stderr",
     "output_type": "stream",
     "text": [
      "C:\\Users\\root_main\\anaconda3\\lib\\site-packages\\urllib3\\connectionpool.py:1043: InsecureRequestWarning: Unverified HTTPS request is being made to host 'demo.syspass.org'. Adding certificate verification is strongly advised. See: https://urllib3.readthedocs.io/en/1.26.x/advanced-usage.html#ssl-warnings\n",
      "  warnings.warn(\n"
     ]
    },
    {
     "name": "stdout",
     "output_type": "stream",
     "text": [
      "<Response [200]>\n"
     ]
    }
   ],
   "source": [
    "import requests\n",
    "from requests.structures import CaseInsensitiveDict\n",
    "\n",
    "url = \"https://demo.syspass.org/api.php\"\n",
    "\n",
    "headers = CaseInsensitiveDict()\n",
    "headers[\"Content-Type\"] = \"application/json\"\n",
    "\n",
    "data = \"\"\"\n",
    "{\n",
    "  \"jsonrpc\": \"2.0\",\n",
    "  \"method\": \"account/viewPass\",\n",
    "  \"params\": {\n",
    "    \"authToken\": \"123@mudar\",\n",
    "    \"tokenPass\": \"6e3cb09cc73f8495d4181cdd2f67a2d414c13b7cfb4aa96a67e6f2b39c49fb9b\"    \n",
    "  },\n",
    "  \"id\": 2,\n",
    "  \"details\": 1\n",
    "}\n",
    "\"\"\"\n",
    "\n",
    "# 53b01a856bbcaa111fc90387ca7801eaf8d5ac3f669e47ae2490223aadbd9e44\n",
    "# e6Ix4zj0czSsKw3Y9aBvpD5O\n",
    "\n",
    "# Pass: 4RUFU6ijpylYtaERaz6wbh9G\n",
    "# Token: 53b01a856bbcaa111fc90387ca7801eaf8d5ac3f669e47ae2490223aadbd9e44\n",
    "resp = requests.post(url, headers=headers, data=data, verify=False)\n",
    "\n",
    "print(resp)\n",
    "\n"
   ]
  },
  {
   "cell_type": "code",
   "execution_count": 66,
   "id": "28a437e3",
   "metadata": {},
   "outputs": [
    {
     "data": {
      "text/plain": [
       "b'{\"jsonrpc\":\"2.0\",\"error\":{\"message\":\"Internal error\",\"code\":-32603,\"data\":null},\"id\":2}'"
      ]
     },
     "execution_count": 66,
     "metadata": {},
     "output_type": "execute_result"
    }
   ],
   "source": [
    "resp.content"
   ]
  }
 ],
 "metadata": {
  "kernelspec": {
   "display_name": "Python 3 (ipykernel)",
   "language": "python",
   "name": "python3"
  },
  "language_info": {
   "codemirror_mode": {
    "name": "ipython",
    "version": 3
   },
   "file_extension": ".py",
   "mimetype": "text/x-python",
   "name": "python",
   "nbconvert_exporter": "python",
   "pygments_lexer": "ipython3",
   "version": "3.9.7"
  }
 },
 "nbformat": 4,
 "nbformat_minor": 5
}
